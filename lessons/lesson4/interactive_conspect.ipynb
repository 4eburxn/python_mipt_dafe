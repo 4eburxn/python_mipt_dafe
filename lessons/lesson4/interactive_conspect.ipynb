{
 "cells": [
  {
   "cell_type": "markdown",
   "metadata": {},
   "source": [
    "# Типы данных: Строки"
   ]
  },
  {
   "cell_type": "markdown",
   "metadata": {},
   "source": [
    "## Определение строк\n",
    "\n",
    "На прошлой [лекции](../lesson3/conspect.md) мы начали изучать последовательность: обсудили определение последовательности в Python, обсудили методы, общие для последовательностей, а также рассмотрели таких представителей последовательностей, как список (tuple) и (list). Сегодня мы закончим изучение последовательностей рассмотрением строк. \n",
    "\n",
    "Строки - еще один встроенные тип данных. Строки - это неизменяемые последовательности, состоящие из символов, и используемые для предоставления текстовой информации. Строки предоставляют широкий функционал и большой набор методов, именно поэтому целесообразно обсуждать их отдельно.\n",
    "\n",
    "Начнем с определения строк в коде. В самом простом случае строки - это последовательность символов (в частности пустая), заключенная в одинарные или двойные кавычки:"
   ]
  },
  {
   "cell_type": "code",
   "execution_count": 1,
   "metadata": {},
   "outputs": [],
   "source": [
    "string1 = 'this is string literal'\n",
    "string2 = \"this is string literal too\""
   ]
  },
  {
   "cell_type": "markdown",
   "metadata": {},
   "source": [
    "Поддержка нескольких вариантов создания строкового литерала позволяет использовать неиспользованные( :) ) кавычки в самом литерале. Ну, или если вы убежденный фанат одного типа кавычек, вы все равно можете использовать из в самом литерале с помощью экранирования:"
   ]
  },
  {
   "cell_type": "code",
   "execution_count": 4,
   "metadata": {},
   "outputs": [
    {
     "name": "stdout",
     "output_type": "stream",
     "text": [
      "I'm iron man\n",
      "I'm iron man\n",
      "True\n"
     ]
    }
   ],
   "source": [
    "string1 = \"I'm iron man\"\n",
    "string2 = 'I\\'m iron man'\n",
    "\n",
    "print(string1, string2, sep='\\n')\n",
    "print(string1 == string2)"
   ]
  },
  {
   "cell_type": "markdown",
   "metadata": {},
   "source": [
    "*Интересный факт*: более предпочтительным считается использование одинарных кавычек. Однако, на работе вы все равно будете использовать те кавычки, которые прописаны в конфигурации форматтера.\n",
    "\n",
    "Вы также можете создавать многострочные строки (как бы странно это не звучало):"
   ]
  },
  {
   "cell_type": "code",
   "execution_count": 23,
   "metadata": {},
   "outputs": [
    {
     "name": "stdout",
     "output_type": "stream",
     "text": [
      "this is long multi string string\n",
      "and this line is its part\n",
      "\n",
      "this is long multi string string\n",
      "and this line is its part\n"
     ]
    }
   ],
   "source": [
    "string1 = \"this is long multi string string\\n\\\n",
    "and this line is its part\"\n",
    "\n",
    "string2 = (\n",
    "    \"this is long multi string string\\n\"\n",
    "    \"and this line is its part\"\n",
    ")\n",
    "\n",
    "print(string1, string2, sep='\\n\\n')"
   ]
  },
  {
   "cell_type": "markdown",
   "metadata": {},
   "source": [
    "Однако, данный подход к создание многострочных строк не приветствуется. Обычно для этих целей используются тройные кавычки:"
   ]
  },
  {
   "cell_type": "code",
   "execution_count": 24,
   "metadata": {},
   "outputs": [
    {
     "name": "stdout",
     "output_type": "stream",
     "text": [
      "This is very very long line\n",
      "Or not\n",
      "But I just wanted to demonstrate this kind of strings\n",
      "\n"
     ]
    }
   ],
   "source": [
    "string = \"\"\"\\\n",
    "This is very very long line\n",
    "Or not\n",
    "But I just wanted to demonstrate \\\n",
    "this kind of strings\n",
    "\"\"\"\n",
    "\n",
    "print(string)"
   ]
  },
  {
   "cell_type": "markdown",
   "metadata": {},
   "source": [
    "Вы часто можете увидеть подобные литералы в качестве многострочных комментариев:\n",
    "\n",
    "```Python\n",
    "def my_func(arg1, *args, kwarg1='word'):\n",
    "    \"\"\"\n",
    "    This function do usefull staff\n",
    "    \n",
    "    :arg1: is a number or None\n",
    "    :kwarg1: is a string, equals 'word' by default\n",
    "\n",
    "    :return: None\n",
    "    \"\"\"\n",
    "    ...\n",
    "```\n",
    "\n",
    "Необходимо обратить внимание на следующее обстоятельство: при создании многострочного строкового литерала с использованием тройных кавычек или с использованием реверс слеша, написание комментариев допустимо только после закрытия кавычек.\n",
    "\n",
    "Также обратите внимание, что в этом варианте у нас нет необходимости в добавлении специального символа перехода но новую строку '\\n', переход осуществляется автоматически при переходе на новую строку. Однако, если мы хотим перейти на новую физическую строку, но при этом продолжить писать на предыдущей физической строке, мы вынуждены использовать реверс-слеш.\n",
    "\n",
    "Помимо символа '\\n' существует ряд символов специального назначения (в англоязычной литературе они называются *escape sequences*). Вот некоторые из них, которые вы будете использовать чаще всего:\n",
    "\n",
    "|Символ|Описание|\n",
    "|--|--|\n",
    "|\\\\<newline>|продолжение написания на текуще физической строке, несмотря на фактическое наличие символа перехода на новую строку|\n",
    "|\\\\\\\\ |реверс слеш|\n",
    "|\\\\'|одинарная кавычка|\n",
    "|\\\\\"|двойная кавычка|\n",
    "|\\\\n|переход на новую строку|\n",
    "|\\\\t|таб|\n",
    "\n",
    "В обычных строках использование реверс-слеша без экранирования невозможно. Однако вы можете создать так называемую *сырую* строку, в которой все специальные символы теряют свое значение:"
   ]
  },
  {
   "cell_type": "code",
   "execution_count": 33,
   "metadata": {},
   "outputs": [
    {
     "name": "stdout",
     "output_type": "stream",
     "text": [
      "C:\\Users\\User\\Desktop\\teaching\n"
     ]
    }
   ],
   "source": [
    "raw_string = r'C:\\Users\\User\\Desktop\\teaching'\n",
    "\n",
    "print(raw_string)"
   ]
  },
  {
   "cell_type": "markdown",
   "metadata": {},
   "source": [
    "Создание сырых строк аналогично созданию обычных строк, единственное - необходимо написать букву r или R перед самим литералом. Обычно данный тип строк используется для определения путей к файлам. Однако, подобная практика не рекомендуется. Для данной цели используйте или модуль pathlib, или модуль os.path. "
   ]
  },
  {
   "cell_type": "markdown",
   "metadata": {},
   "source": [
    "## Строки как последовательности\n",
    "\n",
    "Как упоминалось ранее, строки являются последовательностями. Из этого следует, что мы можем конкатенировать и повторять строки:"
   ]
  },
  {
   "cell_type": "code",
   "execution_count": 34,
   "metadata": {},
   "outputs": [
    {
     "name": "stdout",
     "output_type": "stream",
     "text": [
      "some stringsome stringsome stringsome stringsome string\n",
      "some string add this part\n"
     ]
    }
   ],
   "source": [
    "addition = \" add this part\"\n",
    "string = input('Enter some string: ')\n",
    "\n",
    "repeated = string * 5\n",
    "concatenated = string + addition\n",
    "\n",
    "print(repeated, concatenated, sep='\\n')"
   ]
  },
  {
   "cell_type": "markdown",
   "metadata": {},
   "source": [
    "Т.к. строки неизменяемы, любые операции со строками приводят к созданию нового объекта строки. Даже такие операции, как составное присваивание, не изменяют текущий объект, а создают новый и перепривязывают старую ссылку к новому объекту:"
   ]
  },
  {
   "cell_type": "code",
   "execution_count": 35,
   "metadata": {},
   "outputs": [
    {
     "name": "stdout",
     "output_type": "stream",
     "text": [
      "False\n"
     ]
    }
   ],
   "source": [
    "string = 'this is old string '\n",
    "id_old = id(string)\n",
    "\n",
    "string *= 5\n",
    "id_new = id(string)\n",
    "\n",
    "print(id_old == id_new)"
   ]
  },
  {
   "cell_type": "markdown",
   "metadata": {},
   "source": [
    "Также из того факта, что строки - последовательности, следует, что мы можем использовать оператор `in`, для проверки вхождения того или инога символа в строку:"
   ]
  },
  {
   "cell_type": "code",
   "execution_count": 36,
   "metadata": {},
   "outputs": [
    {
     "name": "stdout",
     "output_type": "stream",
     "text": [
      "True\n"
     ]
    }
   ],
   "source": [
    "string = 'what a wonderful world'\n",
    "print('a' in string)"
   ]
  },
  {
   "cell_type": "markdown",
   "metadata": {},
   "source": [
    "Но, что гораздо интереснее, с помощью оператора `in` мы также можем не просто проверить наличие одного символа в строке, но и наличие целой подстроки: "
   ]
  },
  {
   "cell_type": "code",
   "execution_count": 37,
   "metadata": {},
   "outputs": [
    {
     "name": "stdout",
     "output_type": "stream",
     "text": [
      "True\n"
     ]
    }
   ],
   "source": [
    "string = 'what a wonderful world'\n",
    "print('world' in string)"
   ]
  },
  {
   "cell_type": "markdown",
   "metadata": {},
   "source": [
    "Ну и наконец, поскольку строки - последовательности, мы можем их индексировать. Два важных момента: первое - поскольку строки неизменяемы, мы не можем изменять как значения отдельно взятых символов, так и значения подстрок; второе - индексирование строк аналогично индексированию списков и кортежей, т.е. мы можем использовать положительные и отрицательные целые числа и срезы. "
   ]
  },
  {
   "cell_type": "code",
   "execution_count": 43,
   "metadata": {},
   "outputs": [
    {
     "name": "stdout",
     "output_type": "stream",
     "text": [
      "h\n",
      "d\n",
      "dlrow lufrednow a tahw\n",
      "at a w\n",
      "\n",
      "String is immutable type so you can't change its value\n"
     ]
    }
   ],
   "source": [
    "string = 'what a wonderful world'\n",
    "\n",
    "print(\n",
    "    string[1],\n",
    "    string[-1],\n",
    "    string[::-1],\n",
    "    string[2:8],\n",
    "    sep='\\n',\n",
    "    end='\\n\\n'\n",
    ")\n",
    "\n",
    "try:\n",
    "    string[0] = 'W'\n",
    "\n",
    "except TypeError:\n",
    "    print(\n",
    "        'String is immutable type so you '\n",
    "        \"can't change its value\"\n",
    "    )"
   ]
  },
  {
   "cell_type": "code",
   "execution_count": null,
   "metadata": {},
   "outputs": [],
   "source": []
  }
 ],
 "metadata": {
  "kernelspec": {
   "display_name": "Python 3",
   "language": "python",
   "name": "python3"
  },
  "language_info": {
   "codemirror_mode": {
    "name": "ipython",
    "version": 3
   },
   "file_extension": ".py",
   "mimetype": "text/x-python",
   "name": "python",
   "nbconvert_exporter": "python",
   "pygments_lexer": "ipython3",
   "version": "3.11.1"
  },
  "orig_nbformat": 4
 },
 "nbformat": 4,
 "nbformat_minor": 2
}
